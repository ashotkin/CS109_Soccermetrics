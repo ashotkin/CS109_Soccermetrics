{
 "metadata": {
  "name": "",
  "signature": "sha256:3546754ffe2b112c2dcd5b5a1663c16f1bf8fc26d2f32a2c1551e243fc495ec2"
 },
 "nbformat": 3,
 "nbformat_minor": 0,
 "worksheets": [
  {
   "cells": [
    {
     "cell_type": "heading",
     "level": 1,
     "metadata": {},
     "source": [
      "CS 109 Final Project\n",
      "MLS Soccer Analysis"
     ]
    },
    {
     "cell_type": "code",
     "collapsed": false,
     "input": [],
     "language": "python",
     "metadata": {},
     "outputs": []
    }
   ],
   "metadata": {}
  }
 ]
}